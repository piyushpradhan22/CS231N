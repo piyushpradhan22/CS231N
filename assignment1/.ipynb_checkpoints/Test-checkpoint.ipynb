{
 "cells": [
  {
   "cell_type": "code",
   "execution_count": 132,
   "metadata": {},
   "outputs": [
    {
     "name": "stdout",
     "output_type": "stream",
     "text": [
      "(3, 8) (3,) (8, 10)\n"
     ]
    }
   ],
   "source": [
    "import numpy as np\n",
    "\n",
    "#SVM Loss fully vectorized\n",
    "x = np.array([[1,2,3,4,5,6,7,8],[7,8,9,10,11,12,13,14],[13,14,15,16,17,18,19,20]])\n",
    "y = np.array([5,1,9])\n",
    "w = np.random.randn(8,10)\n",
    "print(x.shape, y.shape, w.shape)"
   ]
  },
  {
   "cell_type": "code",
   "execution_count": 93,
   "metadata": {},
   "outputs": [
    {
     "data": {
      "text/plain": [
       "array([[ 41.06292146,  17.60506922, -21.49727628, -17.03703615,\n",
       "          1.34424974,   5.433207  , -23.54701967,  -8.67478741,\n",
       "         -9.57341068,  -1.73518427],\n",
       "       [ 70.23065937,  38.5820793 , -41.34224951, -47.07487553,\n",
       "          6.27676347,  11.91486357, -38.1603133 , -26.63114737,\n",
       "        -11.97077728, -13.81058385],\n",
       "       [ 99.39839727,  59.55908937, -61.18722275, -77.11271491,\n",
       "         11.2092772 ,  18.39652013, -52.77360693, -44.58750734,\n",
       "        -14.36814389, -25.88598344]])"
      ]
     },
     "execution_count": 93,
     "metadata": {},
     "output_type": "execute_result"
    }
   ],
   "source": [
    "score = x.dot(w)\n",
    "score"
   ]
  },
  {
   "cell_type": "code",
   "execution_count": 113,
   "metadata": {},
   "outputs": [
    {
     "data": {
      "text/plain": [
       "array([0, 0, 0], dtype=int64)"
      ]
     },
     "execution_count": 113,
     "metadata": {},
     "output_type": "execute_result"
    }
   ],
   "source": [
    "np.argmax(score,axis = 1)"
   ]
  },
  {
   "cell_type": "code",
   "execution_count": 107,
   "metadata": {},
   "outputs": [],
   "source": [
    "x,y = np.where(score == np.max(score))"
   ]
  },
  {
   "cell_type": "code",
   "execution_count": 110,
   "metadata": {},
   "outputs": [
    {
     "data": {
      "text/plain": [
       "array([2], dtype=int64)"
      ]
     },
     "execution_count": 110,
     "metadata": {},
     "output_type": "execute_result"
    }
   ],
   "source": [
    "x"
   ]
  },
  {
   "cell_type": "code",
   "execution_count": 72,
   "metadata": {},
   "outputs": [
    {
     "name": "stdout",
     "output_type": "stream",
     "text": [
      "737.6308613118681\n"
     ]
    }
   ],
   "source": [
    "num_classes = w.shape[1]\n",
    "num_train = x.shape[0]\n",
    "loss = 0.0\n",
    "for i in range(num_train):\n",
    "    scores = x[i].dot(w)\n",
    "    #print(scores)\n",
    "    correct_class_score = scores[y[i]]\n",
    "    #print(correct_class_score)\n",
    "    for j in range(num_classes):\n",
    "        if j == y[i]:\n",
    "            continue\n",
    "        margin = scores[j] - correct_class_score +1 # note delta = 1\n",
    "        #print(margin)\n",
    "        if margin > 0:\n",
    "            loss += margin\n",
    "print(loss)"
   ]
  },
  {
   "cell_type": "code",
   "execution_count": 73,
   "metadata": {},
   "outputs": [],
   "source": [
    "c_score = np.diagonal(score[:,y])"
   ]
  },
  {
   "cell_type": "code",
   "execution_count": 74,
   "metadata": {},
   "outputs": [
    {
     "data": {
      "text/plain": [
       "array([  7.90760145, -56.07617012, -22.95702322])"
      ]
     },
     "execution_count": 74,
     "metadata": {},
     "output_type": "execute_result"
    }
   ],
   "source": [
    "c_score"
   ]
  },
  {
   "cell_type": "code",
   "execution_count": 75,
   "metadata": {},
   "outputs": [],
   "source": [
    "margin = score - np.tile(c_score,(10,1)).T + 1"
   ]
  },
  {
   "cell_type": "code",
   "execution_count": 76,
   "metadata": {},
   "outputs": [],
   "source": [
    "sss = np.where(margin < 0,0,margin)"
   ]
  },
  {
   "cell_type": "code",
   "execution_count": 77,
   "metadata": {},
   "outputs": [],
   "source": [
    "sss[range(3),y] = 0"
   ]
  },
  {
   "cell_type": "code",
   "execution_count": 78,
   "metadata": {},
   "outputs": [
    {
     "data": {
      "text/plain": [
       "737.6308613118681"
      ]
     },
     "execution_count": 78,
     "metadata": {},
     "output_type": "execute_result"
    }
   ],
   "source": [
    "np.sum(sss)"
   ]
  },
  {
   "cell_type": "code",
   "execution_count": 79,
   "metadata": {},
   "outputs": [
    {
     "data": {
      "text/plain": [
       "array([[ 0.46777236,  0.        ,  0.        ,  0.        ,  0.        ,\n",
       "         0.        ,  0.        ,  0.        ,  2.39085371,  0.        ],\n",
       "       [68.74341742,  0.        , 53.56144697, 33.00539784, 49.22097187,\n",
       "        70.72109695,  0.        , 83.57287098, 81.40634451, 44.93322812],\n",
       "       [39.91614403,  0.        , 19.78028953,  0.        , 11.80839894,\n",
       "        43.33927544,  0.        , 71.44443582, 63.31891684,  0.        ]])"
      ]
     },
     "execution_count": 79,
     "metadata": {},
     "output_type": "execute_result"
    }
   ],
   "source": [
    "sss"
   ]
  },
  {
   "cell_type": "code",
   "execution_count": 80,
   "metadata": {},
   "outputs": [],
   "source": [
    "# Softmax\n",
    "x = np.array([3,2,6])"
   ]
  },
  {
   "cell_type": "code",
   "execution_count": 81,
   "metadata": {},
   "outputs": [],
   "source": [
    "exp_x = np.exp(x) "
   ]
  },
  {
   "cell_type": "code",
   "execution_count": 82,
   "metadata": {},
   "outputs": [],
   "source": [
    "normalized = exp_x/np.sum(exp_x)"
   ]
  },
  {
   "cell_type": "code",
   "execution_count": 83,
   "metadata": {},
   "outputs": [
    {
     "data": {
      "text/plain": [
       "array([0.04661262, 0.01714783, 0.93623955])"
      ]
     },
     "execution_count": 83,
     "metadata": {},
     "output_type": "execute_result"
    }
   ],
   "source": [
    "normalized"
   ]
  },
  {
   "cell_type": "code",
   "execution_count": 84,
   "metadata": {},
   "outputs": [
    {
     "data": {
      "text/plain": [
       "array([3.0658839, 4.0658839, 0.0658839])"
      ]
     },
     "execution_count": 84,
     "metadata": {},
     "output_type": "execute_result"
    }
   ],
   "source": [
    "- np.log(normalized)"
   ]
  },
  {
   "cell_type": "code",
   "execution_count": 85,
   "metadata": {},
   "outputs": [
    {
     "data": {
      "text/plain": [
       "[<matplotlib.lines.Line2D at 0x1b265aaa688>]"
      ]
     },
     "execution_count": 85,
     "metadata": {},
     "output_type": "execute_result"
    },
    {
     "data": {
      "image/png": "[encoded data removed]",
      "text/plain": [
       "<Figure size 432x288 with 1 Axes>"
      ]
     },
     "metadata": {
      "needs_background": "light"
     },
     "output_type": "display_data"
    }
   ],
   "source": [
    "import matplotlib.pyplot as plt\n",
    "x = np.linspace(0.00000001,1, 200).astype('float32')\n",
    "y = -np.log(x).astype('float32')\n",
    "plt.plot(x,y)"
   ]
  },
  {
   "cell_type": "code",
   "execution_count": 86,
   "metadata": {},
   "outputs": [
    {
     "ename": "AttributeError",
     "evalue": "'numpy.float32' object has no attribute 'dot'",
     "output_type": "error",
     "traceback": [
      "\u001b[1;31m---------------------------------------------------------------------------\u001b[0m",
      "\u001b[1;31mAttributeError\u001b[0m                            Traceback (most recent call last)",
      "\u001b[1;32m<ipython-input-86-e63498d207e2>\u001b[0m in \u001b[0;36m<module>\u001b[1;34m\u001b[0m\n\u001b[0;32m      5\u001b[0m \u001b[0mloss\u001b[0m \u001b[1;33m=\u001b[0m \u001b[1;36m0.0\u001b[0m\u001b[1;33m\u001b[0m\u001b[1;33m\u001b[0m\u001b[0m\n\u001b[0;32m      6\u001b[0m \u001b[1;32mfor\u001b[0m \u001b[0mi\u001b[0m \u001b[1;32min\u001b[0m \u001b[0mrange\u001b[0m\u001b[1;33m(\u001b[0m\u001b[0mnum_train\u001b[0m\u001b[1;33m)\u001b[0m\u001b[1;33m:\u001b[0m\u001b[1;33m\u001b[0m\u001b[1;33m\u001b[0m\u001b[0m\n\u001b[1;32m----> 7\u001b[1;33m     \u001b[0mscores\u001b[0m \u001b[1;33m=\u001b[0m \u001b[0mx\u001b[0m\u001b[1;33m[\u001b[0m\u001b[0mi\u001b[0m\u001b[1;33m]\u001b[0m\u001b[1;33m.\u001b[0m\u001b[0mdot\u001b[0m\u001b[1;33m(\u001b[0m\u001b[0mw\u001b[0m\u001b[1;33m)\u001b[0m\u001b[1;33m\u001b[0m\u001b[1;33m\u001b[0m\u001b[0m\n\u001b[0m\u001b[0;32m      8\u001b[0m     \u001b[1;31m#print(scores)\u001b[0m\u001b[1;33m\u001b[0m\u001b[1;33m\u001b[0m\u001b[1;33m\u001b[0m\u001b[0m\n\u001b[0;32m      9\u001b[0m     \u001b[0mcorrect_class_score\u001b[0m \u001b[1;33m=\u001b[0m \u001b[0mscores\u001b[0m\u001b[1;33m[\u001b[0m\u001b[0my\u001b[0m\u001b[1;33m[\u001b[0m\u001b[0mi\u001b[0m\u001b[1;33m]\u001b[0m\u001b[1;33m]\u001b[0m\u001b[1;33m\u001b[0m\u001b[1;33m\u001b[0m\u001b[0m\n",
      "\u001b[1;31mAttributeError\u001b[0m: 'numpy.float32' object has no attribute 'dot'"
     ]
    }
   ],
   "source": [
    "# Gradient Calculation\n",
    "dw = np.zeros(w.shape)\n",
    "num_classes = w.shape[1]\n",
    "num_train = x.shape[0]\n",
    "loss = 0.0\n",
    "for i in range(num_train):\n",
    "    scores = x[i].dot(w)\n",
    "    #print(scores)\n",
    "    correct_class_score = scores[y[i]]\n",
    "    #print(correct_class_score)\n",
    "    for j in range(num_classes):\n",
    "        if j == y[i]:\n",
    "            continue\n",
    "        margin = scores[j] - correct_class_score +1 # note delta = 1\n",
    "        #print(margin)\n",
    "        if margin > 0:\n",
    "            loss += margin\n",
    "            dw[:,j] = margin*x[i]"
   ]
  },
  {
   "cell_type": "code",
   "execution_count": null,
   "metadata": {},
   "outputs": [],
   "source": [
    "dw.shape"
   ]
  },
  {
   "cell_type": "code",
   "execution_count": 87,
   "metadata": {},
   "outputs": [
    {
     "data": {
      "text/plain": [
       "array([[0., 0., 0., 0., 0., 0., 0., 0., 0., 0.],\n",
       "       [0., 0., 0., 0., 0., 0., 0., 0., 0., 0.],\n",
       "       [0., 0., 0., 0., 0., 0., 0., 0., 0., 0.],\n",
       "       [0., 0., 0., 0., 0., 0., 0., 0., 0., 0.],\n",
       "       [0., 0., 0., 0., 0., 0., 0., 0., 0., 0.],\n",
       "       [0., 0., 0., 0., 0., 0., 0., 0., 0., 0.],\n",
       "       [0., 0., 0., 0., 0., 0., 0., 0., 0., 0.],\n",
       "       [0., 0., 0., 0., 0., 0., 0., 0., 0., 0.]])"
      ]
     },
     "execution_count": 87,
     "metadata": {},
     "output_type": "execute_result"
    }
   ],
   "source": [
    "dw"
   ]
  },
  {
   "cell_type": "code",
   "execution_count": 57,
   "metadata": {},
   "outputs": [],
   "source": [
    "sw = sss.copy()"
   ]
  },
  {
   "cell_type": "code",
   "execution_count": 58,
   "metadata": {},
   "outputs": [],
   "source": [
    "X_mask = np.zeros(sw.shape)\n",
    "X_mask[sw > 0] = 1\n",
    "X_mask[np.arange(3), y] = -np.sum(X_mask, axis=1)"
   ]
  },
  {
   "cell_type": "code",
   "execution_count": 59,
   "metadata": {},
   "outputs": [
    {
     "data": {
      "text/plain": [
       "array([[ 0.        ,  0.        ,  0.        ,  0.        ,  0.        ,\n",
       "         0.        ,  0.        ,  0.        ,  0.        ,  1.86563772],\n",
       "       [25.84001435,  0.        ,  0.        ,  0.        , 22.42206425,\n",
       "        20.37512416,  0.        ,  0.        , 30.60786149, 30.72827462],\n",
       "       [ 0.        ,  0.        ,  0.        ,  0.        ,  0.        ,\n",
       "         0.        ,  0.        ,  0.        ,  3.89359399,  0.        ]])"
      ]
     },
     "execution_count": 59,
     "metadata": {},
     "output_type": "execute_result"
    }
   ],
   "source": [
    "sss"
   ]
  },
  {
   "cell_type": "code",
   "execution_count": 61,
   "metadata": {},
   "outputs": [
    {
     "data": {
      "text/plain": [
       "array([[ 0.,  0.,  0.,  0.,  0., -1.,  0.,  0.,  0.,  1.],\n",
       "       [ 1., -5.,  0.,  0.,  1.,  1.,  0.,  0.,  1.,  1.],\n",
       "       [ 0.,  0.,  0.,  0.,  0.,  0.,  0.,  0.,  1., -1.]])"
      ]
     },
     "execution_count": 61,
     "metadata": {},
     "output_type": "execute_result"
    }
   ],
   "source": [
    "X_mask"
   ]
  },
  {
   "cell_type": "code",
   "execution_count": 68,
   "metadata": {},
   "outputs": [
    {
     "data": {
      "text/plain": [
       "array([39,  7, 74])"
      ]
     },
     "execution_count": 68,
     "metadata": {},
     "output_type": "execute_result"
    }
   ],
   "source": [
    "#SGD\n",
    "np.random.choice(100,3)"
   ]
  },
  {
   "cell_type": "code",
   "execution_count": 88,
   "metadata": {},
   "outputs": [],
   "source": [
    "x = np.random.randn(10,15)"
   ]
  },
  {
   "cell_type": "code",
   "execution_count": 90,
   "metadata": {},
   "outputs": [
    {
     "data": {
      "text/plain": [
       "array([[-1.38950996,  1.6157862 ,  1.24352835, -1.82858188, -0.97036521,\n",
       "         1.37779302,  0.51571518, -0.03597312, -0.4140637 , -0.68549996,\n",
       "        -0.36394152,  1.34503554, -0.37495877, -1.07042517, -0.86175733],\n",
       "       [ 1.65385318, -0.66779696,  0.48701054, -0.08684477,  0.95893646,\n",
       "        -1.64709333, -0.93155295, -0.78197446, -1.31080634,  0.07793305,\n",
       "         0.13202721, -3.51377554, -0.01308012,  1.07373996, -1.7551015 ],\n",
       "       [-0.07610004, -0.96466483, -0.89598957, -0.27521005, -0.25791202,\n",
       "        -0.59678476, -0.73415947,  0.61944525,  2.79166469, -1.25465235,\n",
       "         0.96247916, -0.82145087,  2.25517335, -1.28373214,  0.94408864]])"
      ]
     },
     "execution_count": 90,
     "metadata": {},
     "output_type": "execute_result"
    }
   ],
   "source": [
    "x[np.random.choice(10,3)]"
   ]
  },
  {
   "cell_type": "code",
   "execution_count": 114,
   "metadata": {},
   "outputs": [
    {
     "data": {
      "text/plain": [
       "1e-07"
      ]
     },
     "execution_count": 114,
     "metadata": {},
     "output_type": "execute_result"
    }
   ],
   "source": [
    "1e-7"
   ]
  },
  {
   "cell_type": "code",
   "execution_count": 117,
   "metadata": {},
   "outputs": [
    {
     "data": {
      "text/plain": [
       "5.0"
      ]
     },
     "execution_count": 117,
     "metadata": {},
     "output_type": "execute_result"
    }
   ],
   "source": [
    "5e-7*10000000"
   ]
  },
  {
   "cell_type": "code",
   "execution_count": 118,
   "metadata": {},
   "outputs": [
    {
     "data": {
      "text/plain": [
       "20000.0"
      ]
     },
     "execution_count": 118,
     "metadata": {},
     "output_type": "execute_result"
    }
   ],
   "source": [
    "2e4"
   ]
  },
  {
   "cell_type": "code",
   "execution_count": 121,
   "metadata": {},
   "outputs": [],
   "source": [
    "#SOftmax\n",
    "x = np.array([[1,2,3,4],[4,5,6,7]])"
   ]
  },
  {
   "cell_type": "code",
   "execution_count": 127,
   "metadata": {},
   "outputs": [],
   "source": [
    "y = np.array([[2],[3]])"
   ]
  },
  {
   "cell_type": "code",
   "execution_count": 128,
   "metadata": {},
   "outputs": [
    {
     "data": {
      "text/plain": [
       "array([[0.5       , 1.        , 1.5       , 2.        ],\n",
       "       [1.33333333, 1.66666667, 2.        , 2.33333333]])"
      ]
     },
     "execution_count": 128,
     "metadata": {},
     "output_type": "execute_result"
    }
   ],
   "source": [
    "x/y"
   ]
  },
  {
   "cell_type": "code",
   "execution_count": 129,
   "metadata": {},
   "outputs": [
    {
     "data": {
      "text/plain": [
       "(2, 1)"
      ]
     },
     "execution_count": 129,
     "metadata": {},
     "output_type": "execute_result"
    }
   ],
   "source": [
    "y.shape"
   ]
  },
  {
   "cell_type": "code",
   "execution_count": 131,
   "metadata": {},
   "outputs": [
    {
     "data": {
      "text/plain": [
       "array([4, 7])"
      ]
     },
     "execution_count": 131,
     "metadata": {},
     "output_type": "execute_result"
    }
   ],
   "source": [
    "np.amax(x, axis=1)"
   ]
  },
  {
   "cell_type": "code",
   "execution_count": 133,
   "metadata": {},
   "outputs": [],
   "source": [
    "num_train = x.shape[0]\n",
    "num_classes = w.shape[1]\n",
    "score = x.dot(w)"
   ]
  },
  {
   "cell_type": "code",
   "execution_count": 134,
   "metadata": {},
   "outputs": [
    {
     "data": {
      "text/plain": [
       "array([[ 1.23171025e+01,  1.78216592e+00,  1.64071782e+01,\n",
       "        -5.04746082e+00, -2.46634054e+01, -1.26835120e+01,\n",
       "        -1.48968565e+00,  5.32536889e+00,  1.86629907e+01,\n",
       "         3.22327033e+01],\n",
       "       [ 2.70114960e+01,  9.39146281e-01,  3.23780447e+01,\n",
       "        -1.23282021e+01, -5.05085907e+01, -3.00177570e+01,\n",
       "        -9.07133412e+00,  9.73978704e+00,  2.92185289e+01,\n",
       "         6.60899983e+01],\n",
       "       [ 4.17058895e+01,  9.61266459e-02,  4.83489113e+01,\n",
       "        -1.96089433e+01, -7.63537759e+01, -4.73520019e+01,\n",
       "        -1.66529826e+01,  1.41542052e+01,  3.97740670e+01,\n",
       "         9.99472934e+01]])"
      ]
     },
     "execution_count": 134,
     "metadata": {},
     "output_type": "execute_result"
    }
   ],
   "source": [
    "score"
   ]
  },
  {
   "cell_type": "code",
   "execution_count": 136,
   "metadata": {},
   "outputs": [
    {
     "name": "stdout",
     "output_type": "stream",
     "text": [
      "[32.23270328 66.08999835 99.94729341]\n"
     ]
    }
   ],
   "source": [
    "maxValues = np.amax(score, axis=1)\n",
    "print(maxValues)"
   ]
  },
  {
   "cell_type": "code",
   "execution_count": 168,
   "metadata": {},
   "outputs": [
    {
     "name": "stdout",
     "output_type": "stream",
     "text": [
      "[[32.23270328 32.23270328 32.23270328 32.23270328 32.23270328 32.23270328\n",
      "  32.23270328 32.23270328 32.23270328 32.23270328]\n",
      " [66.08999835 66.08999835 66.08999835 66.08999835 66.08999835 66.08999835\n",
      "  66.08999835 66.08999835 66.08999835 66.08999835]\n",
      " [99.94729341 99.94729341 99.94729341 99.94729341 99.94729341 99.94729341\n",
      "  99.94729341 99.94729341 99.94729341 99.94729341]]\n"
     ]
    }
   ],
   "source": [
    "maxV = np.tile(maxValues,(num_classes,1))\n",
    "print(maxV.T)"
   ]
  },
  {
   "cell_type": "code",
   "execution_count": 169,
   "metadata": {},
   "outputs": [
    {
     "data": {
      "text/plain": [
       "array([[ -19.91560081,  -30.45053737,  -15.82552509,  -37.2801641 ,\n",
       "         -56.89610867,  -44.91621531,  -33.72238894,  -26.9073344 ,\n",
       "         -13.56971257,    0.        ],\n",
       "       [ -39.07850235,  -65.15085207,  -33.71195362,  -78.4182004 ,\n",
       "        -116.59858901,  -96.10775533,  -75.16133247,  -56.35021131,\n",
       "         -36.87146949,    0.        ],\n",
       "       [ -58.24140389,  -99.85116677,  -51.59838215, -119.5562367 ,\n",
       "        -176.30106936, -147.29929536, -116.600276  ,  -85.79308822,\n",
       "         -60.17322642,    0.        ]])"
      ]
     },
     "execution_count": 169,
     "metadata": {},
     "output_type": "execute_result"
    }
   ],
   "source": [
    "score_n = score - maxV.T\n",
    "score_n"
   ]
  },
  {
   "cell_type": "code",
   "execution_count": 171,
   "metadata": {},
   "outputs": [
    {
     "data": {
      "text/plain": [
       "array([[2.24266531e-09, 5.96347840e-14, 1.33986727e-07, 6.44808045e-17,\n",
       "        1.95134457e-25, 3.11268766e-20, 2.26231236e-15, 2.06202131e-12,\n",
       "        1.27864125e-06, 1.00000000e+00],\n",
       "       [1.06763320e-17, 5.07392982e-29, 2.28604390e-15, 8.77825687e-35,\n",
       "        2.30078583e-51, 1.82361095e-42, 2.27954440e-33, 3.36832644e-25,\n",
       "        9.70340725e-17, 1.00000000e+00],\n",
       "       [5.08252674e-26, 4.31707170e-44, 3.90038390e-23, 1.19505013e-52,\n",
       "        2.71280405e-77, 1.06838760e-64, 2.29690770e-51, 5.50218514e-38,\n",
       "        7.36376310e-27, 1.00000000e+00]])"
      ]
     },
     "execution_count": 171,
     "metadata": {},
     "output_type": "execute_result"
    }
   ],
   "source": [
    "p_score = np.exp(score_n)\n",
    "sums = np.sum(p_score, axis=1)\n",
    "p_score"
   ]
  },
  {
   "cell_type": "code",
   "execution_count": 188,
   "metadata": {},
   "outputs": [
    {
     "data": {
      "text/plain": [
       "array([[2.24266213e-09, 5.96346996e-14, 1.33986537e-07, 6.44807133e-17,\n",
       "        1.95134181e-25, 3.11268326e-20, 2.26230916e-15, 2.06201839e-12,\n",
       "        1.27863944e-06, 9.99998585e-01],\n",
       "       [1.06763320e-17, 5.07392982e-29, 2.28604390e-15, 8.77825687e-35,\n",
       "        2.30078583e-51, 1.82361095e-42, 2.27954440e-33, 3.36832644e-25,\n",
       "        9.70340725e-17, 1.00000000e+00],\n",
       "       [5.08252674e-26, 4.31707170e-44, 3.90038390e-23, 1.19505013e-52,\n",
       "        2.71280405e-77, 1.06838760e-64, 2.29690770e-51, 5.50218514e-38,\n",
       "        7.36376310e-27, 1.00000000e+00]])"
      ]
     },
     "execution_count": 188,
     "metadata": {},
     "output_type": "execute_result"
    }
   ],
   "source": [
    "softmax = p_score/sums.reshape(sums.shape[0],1)\n",
    "softmax"
   ]
  },
  {
   "cell_type": "code",
   "execution_count": 191,
   "metadata": {},
   "outputs": [
    {
     "data": {
      "text/plain": [
       "array([3.11268326e-20, 5.07392982e-29, 1.00000000e+00])"
      ]
     },
     "execution_count": 191,
     "metadata": {},
     "output_type": "execute_result"
    }
   ],
   "source": [
    "softmax_loss = softmax[range(num_train),y]\n",
    "softmax_loss"
   ]
  },
  {
   "cell_type": "code",
   "execution_count": 193,
   "metadata": {},
   "outputs": [],
   "source": [
    "dscores = softmax_loss - 1\n",
    "dscores /= num_train\n",
    "dW = np.dot(x.T, dscores)\n"
   ]
  },
  {
   "cell_type": "code",
   "execution_count": 194,
   "metadata": {},
   "outputs": [
    {
     "data": {
      "text/plain": [
       "(8,)"
      ]
     },
     "execution_count": 194,
     "metadata": {},
     "output_type": "execute_result"
    }
   ],
   "source": [
    "dW.shape"
   ]
  },
  {
   "cell_type": "code",
   "execution_count": null,
   "metadata": {},
   "outputs": [],
   "source": []
  }
 ],
 "metadata": {
  "kernelspec": {
   "display_name": "Python 3",
   "language": "python",
   "name": "python3"
  },
  "language_info": {
   "codemirror_mode": {
    "name": "ipython",
    "version": 3
   },
   "file_extension": ".py",
   "mimetype": "text/x-python",
   "name": "python",
   "nbconvert_exporter": "python",
   "pygments_lexer": "ipython3",
   "version": "3.7.6"
  }
 },
 "nbformat": 4,
 "nbformat_minor": 4
}
